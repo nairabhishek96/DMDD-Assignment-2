{
 "cells": [
  {
   "cell_type": "markdown",
   "metadata": {},
   "source": [
    "<h3>Scraping Twitter: University Marketplace</h3>\n",
    "\n",
    "Introduction\n",
    "\n",
    "Here we are using twitter API to extract tweets related to buy and sell of used items in twitter. After extracting all the tweets using the API related to our search value, we will save all the records in our MySQL tables (tweet, tweet_mentions, tweet_tags). \n",
    "\n",
    "<h3>Importing Essential Libraries</h3>"
   ]
  },
  {
   "cell_type": "code",
   "execution_count": 19,
   "metadata": {},
   "outputs": [],
   "source": [
    "import tweepy\n",
    "import configparser\n",
    "import pandas as pd\n",
    "import pymysql\n",
    "pymysql.install_as_MySQLdb()\n",
    "import mysql.connector\n",
    "from mysql.connector import Error"
   ]
  },
  {
   "cell_type": "markdown",
   "metadata": {},
   "source": [
    "<h3>Authentication keys</h3>\n",
    "\n",
    "Here we are defining keys to authenticate with twitter API and start calling API functions to extract tweets for our analysis.\n",
    "\n",
    "You need to register for a Twitter dev account https://developer.twitter.com\n",
    "\n",
    "Look at the Twitter data model https://developer.twitter.com/en/docs/twitter-api/v1/data-dictionary/object-model/tweet\n",
    "\n",
    "Apply for a Twitter Developer Account\n",
    "\n",
    "Go to the Twitter developer site to apply for a developer account.\n",
    "\n",
    "Step 2: Create an Application\n",
    "\n",
    "Twitter grants authentication credentials to apps, not accounts. An app can be any tool or bot that uses the Twitter API. So you need to register your an app to be able to make API calls.\n",
    "\n",
    "To register your app, go to your Twitter apps page and select the Create an app option.\n",
    "\n",
    "You need to provide the following information about your app and its purpose:\n",
    "\n",
    "App name: a name to identify your application (such as examplebot) Application description: the purpose of your application (such as An example bot for a Real Python article) Your or your application’s website URL: required, but can be your personal site’s URL since bots don’t need a URL to work Use of the app: how users will use your app (such as This app is a bot that will automatically respond to users) Step 3: Create the Authentication Credentials\n",
    "\n",
    "To create the authentication credentials, go to your Twitter apps page. Here’s what the Apps page looks like:\n",
    "\n",
    "Edit app details Here you’ll find the Details button of your app. Clicking this button takes you to the next page, where you can generate the credentials.\n",
    "\n",
    "By selecting the Keys and tokens tab, you can generate and copy the key, token, and secrets to use them in your code:\n",
    "\n",
    "Generate keys and tokens After generating the credentials, save them to later use them in your code."
   ]
  },
  {
   "cell_type": "code",
   "execution_count": 21,
   "metadata": {},
   "outputs": [],
   "source": [
    "# read config from config.ini file\n",
    "config = configparser.ConfigParser()\n",
    "config.read('config.ini')\n",
    "\n",
    "api_key = config['twitter']['api_key']\n",
    "api_key_secret = config['twitter']['api_key_secret']\n",
    "access_token = config['twitter']['access_token']\n",
    "access_token_secret = config['twitter']['access_token_secret']"
   ]
  },
  {
   "cell_type": "markdown",
   "metadata": {},
   "source": [
    "<h3>Authentication</h3>\n",
    "\n",
    "As we have previously seen, the Twitter API requires that all requests use OAuth to authenticate. So you need to create the required authentication credentials to be able to use the API. These credentials are four text strings:\n",
    "\n",
    "Consumer key Consumer secret Access token Access secret"
   ]
  },
  {
   "cell_type": "code",
   "execution_count": 22,
   "metadata": {},
   "outputs": [
    {
     "name": "stdout",
     "output_type": "stream",
     "text": [
      "Authentication OK\n"
     ]
    }
   ],
   "source": [
    "# Using Tweepy to authenticate user using api key and access token\n",
    "auth = tweepy.OAuthHandler(api_key, api_key_secret)\n",
    "auth.set_access_token(access_token, access_token_secret)\n",
    "api = tweepy.API(auth,wait_on_rate_limit=True)\n",
    "\n",
    "# Checking if the api credentials is verified\n",
    "try:\n",
    "    api.verify_credentials()\n",
    "    print(\"Authentication OK\")\n",
    "except:\n",
    "    print(\"Error during authentication\")"
   ]
  },
  {
   "cell_type": "markdown",
   "metadata": {},
   "source": [
    "<h3>Extracting Tweets</h3>\n",
    "\n",
    "We are using search_tweets function to get all the tweets with keyword 'selling a table'"
   ]
  },
  {
   "cell_type": "code",
   "execution_count": 23,
   "metadata": {},
   "outputs": [
    {
     "name": "stdout",
     "output_type": "stream",
     "text": [
      "Connected to MySQL Server version  8.0.31\n",
      "You're connected to database:  ('twitter_schema',)\n"
     ]
    }
   ],
   "source": [
    "# Searching tweets based on the text message\n",
    "tweets = api.search_tweets('selling a table',count=10000)\n",
    "\n",
    "# Checking the database connection \n",
    "try:\n",
    "    connection = mysql.connector.connect(host='localhost',\n",
    "                                         database='twitter_schema',\n",
    "                                         user='root',\n",
    "                                         password='root')\n",
    "    if connection.is_connected():\n",
    "        db_Info = connection.get_server_info()\n",
    "        print(\"Connected to MySQL Server version \", db_Info)\n",
    "        cursor = connection.cursor()\n",
    "        cursor.execute(\"select database();\")\n",
    "        record = cursor.fetchone()\n",
    "        print(\"You're connected to database: \", record)\n",
    "except Error as e:\n",
    "    print(\"Error while connecting to MySQL\", e)\n",
    "\n"
   ]
  },
  {
   "cell_type": "markdown",
   "metadata": {},
   "source": [
    "<h3>Loading the tweets into the MySQL database</h3>"
   ]
  },
  {
   "cell_type": "code",
   "execution_count": 24,
   "metadata": {},
   "outputs": [],
   "source": [
    "# Looping over the entire tweets to fetch the required information and inserting the values in three twitter tables: tweet, tweet_mentions, tweet_tags\n",
    "for tweet in tweets:\n",
    "    tweet_id = tweet.id\n",
    "    created_at = tweet.created_at\n",
    "    twitter_text = tweet.text\n",
    "    username = tweet.user.screen_name\n",
    "    name = tweet.user.name\n",
    "    userId = tweet.user.id\n",
    "    follower_count = tweet.user.followers_count\n",
    "    following_count = tweet.user.friends_count\n",
    "    twitter_handle = tweet.user.screen_name\n",
    "    profile_image_url = tweet.user.profile_image_url_https\n",
    "    description = tweet.user.description\n",
    "    userCreated_at = tweet.user.created_at\n",
    "    status = api.get_status(tweet_id)\n",
    "    retweet_count = status.retweet_count \n",
    "    \n",
    "    cursor.execute('''insert into tweet ( twitter_handle, tweet_text, profile_image_url, tweet_date, user_created_at, retweets) values ( %s, %s, %s, %s, %s, %s);''', ( twitter_handle, twitter_text, profile_image_url, created_at,userCreated_at,retweet_count))\n",
    "    connection.commit()\n",
    "    if(len(tweet.entities['user_mentions']) > 0):\n",
    "        for mention in tweet.entities['user_mentions']:\n",
    "            target_user = mention['screen_name']\n",
    "            cursor.execute('''insert into tweet_mentions (tweet_id,source_user, target_user) values (%s, %s, %s)''', (cursor._last_insert_id,twitter_handle, target_user))\n",
    "    connection.commit()\n",
    "    if(len(tweet.entities['hashtags']) > 0):\n",
    "        for tag in tweet.entities['hashtags']:\n",
    "            tag = tag['text']\n",
    "            cursor.execute('''insert into tweet_tags (tweet_id,tag, target_user) values (%s,%s, %s)''', (cursor._last_insert_id,tag,target_user))\n",
    "    connection.commit()"
   ]
  }
 ],
 "metadata": {
  "kernelspec": {
   "display_name": "Python 3.10.8 64-bit",
   "language": "python",
   "name": "python3"
  },
  "language_info": {
   "codemirror_mode": {
    "name": "ipython",
    "version": 3
   },
   "file_extension": ".py",
   "mimetype": "text/x-python",
   "name": "python",
   "nbconvert_exporter": "python",
   "pygments_lexer": "ipython3",
   "version": "3.10.8"
  },
  "orig_nbformat": 4,
  "vscode": {
   "interpreter": {
    "hash": "fcc36d1ccd5caa3799214c4c78edfa7969ad6d25bcbeb3fef3413f17f0ea6e7e"
   }
  }
 },
 "nbformat": 4,
 "nbformat_minor": 2
}
